{
 "cells": [
  {
   "cell_type": "code",
   "execution_count": null,
   "metadata": {},
   "outputs": [],
   "source": [
    "# Travelling Saleman Problem using Simulated Annealing"
   ]
  },
  {
   "cell_type": "code",
   "execution_count": 16,
   "metadata": {},
   "outputs": [],
   "source": [
    "import pandas as pd\n",
    "import numpy as np\n",
    "import matplotlib.pyplot as plt"
   ]
  },
  {
   "cell_type": "code",
   "execution_count": 17,
   "metadata": {},
   "outputs": [],
   "source": [
    "data_1 = pd.DataFrame([[0,75,99,9,35,63,8],\\\n",
    "                       [51,0,86,46,88,29,20],\\\n",
    "                       [100,5,0,16,28,35,28],\\\n",
    "                       [20,45,11,0,59,53,49],\\\n",
    "                       [86,63,33,65,0,76,72],\\\n",
    "                       [36,53,89,31,21,0,52],\\\n",
    "                       [58,31,43,67,52,60,0]],columns = [\"A\",\"B\",\\\n",
    "                                                       \"C\",\"D\",\"E\"\\\n",
    "                                                       ,\"F\",\"G\"],\n",
    "                      index = [\"A\",\"B\",\"C\",\"D\",\"E\",\"F\",\"G\"])"
   ]
  },
  {
   "cell_type": "code",
   "execution_count": 18,
   "metadata": {},
   "outputs": [],
   "source": [
    "# initial solution\n",
    "x_0 = [\"A\",\"B\",\"D\",\"F\",\"E\",\"G\",\"C\"]\n",
    "seq_matrix = []\n",
    "seq_matrix.append(x_0)"
   ]
  },
  {
   "cell_type": "code",
   "execution_count": 19,
   "metadata": {},
   "outputs": [],
   "source": [
    "def travel_distance(x):\n",
    "    global data_1\n",
    "    distances = []\n",
    "    for i in range(0,len(x),1):\n",
    "        if i+1 == len(x):\n",
    "            distances.append(data_1.loc[x[i],x[len(x)-i-1]])\n",
    "        else:\n",
    "            distances.append(data_1.loc[x[i],x[i+1]])\n",
    "    \n",
    "    length_of_travel = sum(distances)\n",
    "    \n",
    "    return length_of_travel"
   ]
  },
  {
   "cell_type": "code",
   "execution_count": 20,
   "metadata": {},
   "outputs": [],
   "source": [
    "T_0 = 3000\n",
    "M = 1000\n",
    "N = 50\n",
    "alpha = 0.85"
   ]
  },
  {
   "cell_type": "code",
   "execution_count": 21,
   "metadata": {},
   "outputs": [],
   "source": [
    "length = []\n",
    "length.append(travel_distance(x_0))"
   ]
  },
  {
   "cell_type": "code",
   "execution_count": 23,
   "metadata": {},
   "outputs": [],
   "source": [
    "temp = []"
   ]
  },
  {
   "cell_type": "code",
   "execution_count": 24,
   "metadata": {},
   "outputs": [],
   "source": [
    "for i in range(M):\n",
    "    for j in range(N):\n",
    "        r_1 = np.random.randint(0,len(x_0))\n",
    "        r_2 = np.random.randint(0,len(x_0))\n",
    "        \n",
    "        while r_1 == r_2:\n",
    "            r_2 = np.random.randint(0,len(x_0))\n",
    "            \n",
    "        x_temp = []\n",
    "        a_1 = x_0[r_1]\n",
    "        a_2 = x_0[r_2]\n",
    "        \n",
    "        for i in range(len(x_0)):\n",
    "            if x_0[i] == a_1:\n",
    "                x_temp = np.append(x_temp,a_2)\n",
    "            elif x_0[i] == a_2:\n",
    "                x_temp = np.append(x_temp,a_1)\n",
    "            else:\n",
    "                x_temp = np.append(x_temp,x_0[i])\n",
    "            \n",
    "        x_temp = list(x_temp)\n",
    "        new_length = travel_distance(x_temp)      \n",
    "        rand_num = np.random.rand()\n",
    "        base_num = np.exp((length[-1]-new_length)/T_0)\n",
    "        \n",
    "        if (new_length <= length[-1]) or \\\n",
    "        rand_num<=base_num:\n",
    "            x_0 = x_temp\n",
    "            seq_matrix.append(x_0)\n",
    "            length.append(travel_distance(x_temp))\n",
    "        else:\n",
    "            x_0 = x_0\n",
    "            \n",
    "    temp = np.append(temp,T_0)\n",
    "    \n",
    "    T_0 = alpha*T_0"
   ]
  }
 ],
 "metadata": {
  "kernelspec": {
   "display_name": "Python 3",
   "language": "python",
   "name": "python3"
  },
  "language_info": {
   "codemirror_mode": {
    "name": "ipython",
    "version": 3
   },
   "file_extension": ".py",
   "mimetype": "text/x-python",
   "name": "python",
   "nbconvert_exporter": "python",
   "pygments_lexer": "ipython3",
   "version": "3.7.1"
  }
 },
 "nbformat": 4,
 "nbformat_minor": 2
}
