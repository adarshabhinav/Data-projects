{
 "cells": [
  {
   "cell_type": "code",
   "execution_count": 1,
   "metadata": {},
   "outputs": [],
   "source": [
    "import numpy as np\n",
    "import pandas as pd\n",
    "\n",
    "np.random.seed(0)"
   ]
  },
  {
   "cell_type": "code",
   "execution_count": 2,
   "metadata": {},
   "outputs": [],
   "source": [
    "def generate_arrival():\n",
    "    return np.random.exponential(1./10)\n",
    "\n",
    "def generate_service(i):\n",
    "    global item_details\n",
    "    return np.random.normal(item_details[int(i)][0],item_details[int(i)][1],\\\n",
    "                            1)[0]\n",
    "\n",
    "def generate_cost(i):\n",
    "    global item_details\n",
    "    return item_details[int(i)][2]"
   ]
  },
  {
   "cell_type": "code",
   "execution_count": 3,
   "metadata": {},
   "outputs": [],
   "source": [
    "# Maximum number of \"Cashiers\" in Coffee shop\n",
    "max_cashiers = 2\n",
    "\n",
    "# Maximum number of \"Servers\" in Coffee shop\n",
    "max_servers = 3\n",
    "\n",
    "# Maximum number of items to offer in Coffee shop menu\n",
    "max_items = 5\n",
    "\n",
    "# #hr for which this simulation is done\n",
    "total_time = 8\n",
    "\n",
    "# \"item_details\" is list of list. \"item_details[i]\" is list containing \n",
    "#  parameters of distribution which is representative of time taken \n",
    "#  to make item \"i\".\n",
    "\n",
    "#  I personally believe it reasonable to assume the the random variable  \n",
    "#  represenative of time taken to make item \"i\" to follow normal distribution\n",
    "#  item_details[i][0] = mean time to make item \"i\"\n",
    "#  item_details[i][1] = 2nd-central moment for random variable which is\n",
    "#  represenative of time taken to make item \"i\"\n",
    "#  item_details[i][2] = Cost of item \"i\"\n",
    "item_details = [[0.01,0.0025,4],[0.02,0.0025,4],[0.03,0.0025,4],[0.04,0.0025,4],\\\n",
    "                [0.05,0.0025,4]]"
   ]
  },
  {
   "cell_type": "code",
   "execution_count": 4,
   "metadata": {},
   "outputs": [],
   "source": [
    "# simulating arrival events\n",
    "t_event_arr = 0\n",
    "t_arrival_list = []\n",
    "while total_time > 0:\n",
    "    t_arrival = generate_arrival()\n",
    "    if total_time >= t_arrival:\n",
    "        t_event_arr += t_arrival\n",
    "        total_time -= t_arrival\n",
    "        t_arrival_list.append(t_event_arr)\n",
    "    else:\n",
    "        total_time = 0"
   ]
  },
  {
   "cell_type": "code",
   "execution_count": 5,
   "metadata": {
    "scrolled": true
   },
   "outputs": [],
   "source": [
    "# generating order size for the customers randomly\n",
    "order_size_list = [np.random.randint(1,max_items, size=1)[0] \\\n",
    "                   for i in t_arrival_list]\n",
    "\n",
    "# generating orders list for the customers randomly\n",
    "order_list = [np.sort(np.random.randint(0,max_items, size=(1,order_size)))[0]\\\n",
    "             for order_size in order_size_list]\n",
    "\n",
    "# generating list of unique items ordered by the customers randomly\n",
    "unique_order_list = [len(np.unique(order_list_row)) for order_list_row \\\n",
    "                    in order_list]"
   ]
  },
  {
   "cell_type": "code",
   "execution_count": 6,
   "metadata": {},
   "outputs": [],
   "source": [
    "customer_exp = pd.DataFrame({'Time_Of_Arrival':t_arrival_list,\\\n",
    "                             'Order_Size':order_size_list,\\\n",
    "                             'Order_List': order_list, \\\n",
    "                             'Unique_Orders':unique_order_list})\n",
    "\n",
    "# To trace into account when the order exactly went into queue for given \n",
    "# customer\n",
    "customer_exp[['Cash_Q_Time','Ordering_Time','Cashier_ID']] = \\\n",
    "pd.DataFrame([[0,0,'cashier0']],index=customer_exp.index)"
   ]
  },
  {
   "cell_type": "code",
   "execution_count": 7,
   "metadata": {},
   "outputs": [],
   "source": [
    "# For identifying the order time\n",
    "free_time_cashiers = [0]*max_cashiers\n",
    "\n",
    "customer_index=0\n",
    "while customer_index < len(t_arrival_list):\n",
    "    \n",
    "    if customer_index == 0:\n",
    "        q_time = 0\n",
    "        cashier_id = 0\n",
    "        \n",
    "    else:\n",
    "        boolean = 1\n",
    "        i = 0\n",
    "        while (boolean):\n",
    "            if i < max_cashiers:\n",
    "                if (customer_exp.loc[customer_index,'Time_Of_Arrival']\\\n",
    "                    < free_time_cashiers[i]):\n",
    "                    i += 1\n",
    "                    boolean = 1\n",
    "                    \n",
    "                else:\n",
    "                    q_time = 0\n",
    "                    cashier_id = i\n",
    "                    boolean = 0\n",
    "                    \n",
    "            else:\n",
    "                cashier_id = np.argmin(free_time_cashiers)\n",
    "                q_time = np.min(free_time_cashiers) - customer_exp.loc[customer_index,\\\n",
    "                                                              'Time_Of_Arrival']\n",
    "                boolean = 0\n",
    "    \n",
    "    customer_exp.loc[customer_index,'Cash_Q_Time'] = q_time\n",
    "    customer_exp.loc[customer_index,'Cashier_ID'] = cashier_id\n",
    "    customer_exp.loc[customer_index,'Ordering_Time'] = \\\n",
    "    (customer_exp.loc[customer_index,'Time_Of_Arrival'] + \\\n",
    "     (customer_exp.loc[customer_index,'Unique_Orders'] * 0.01) + q_time) \n",
    "    free_time_cashiers[cashier_id] = customer_exp.loc[customer_index,\\\n",
    "                                                      'Ordering_Time']\n",
    "    customer_index += 1\n",
    "    \n",
    "customer_exp['Ordering_Seq'] = customer_exp['Ordering_Time'].rank()"
   ]
  },
  {
   "cell_type": "code",
   "execution_count": 9,
   "metadata": {},
   "outputs": [],
   "source": [
    "# Sequencing of customer orders\n",
    "serving_seq = customer_exp[['Order_List','Ordering_Seq']].copy()\n",
    "\n",
    "serving_seq_data_manip_counter= 0\n",
    "if serving_seq_data_manip_counter== 0:\n",
    "    serving_seq.reset_index(level=0,inplace=True)\n",
    "    serving_seq_data_manip_counter += 1\n",
    "else:\n",
    "    pass\n",
    "\n",
    "serving_seq.sort_values(by=['Ordering_Seq'],inplace=True)\n",
    "serving_seq.rename(columns={'index':'Customer_ID'}, inplace=True)"
   ]
  },
  {
   "cell_type": "code",
   "execution_count": 10,
   "metadata": {},
   "outputs": [],
   "source": [
    "# ref link: https://mikulskibartosz.name/how-to-split-a-list-inside-a-\n",
    "#           dataframe-cell-into-rows-in-pandas-9849d8ff2401\n",
    "\n",
    "serving_seq = serving_seq.Order_List.apply(pd.Series).merge(serving_seq,\\\n",
    "                                                            left_index=True,\\\n",
    "                                                            right_index=True)\\\n",
    ".drop(['Order_List'],axis=1)\\\n",
    ".melt(id_vars=['Ordering_Seq','Customer_ID'],value_name='Order')\\\n",
    ".drop(\"variable\", axis=1).dropna().sort_values(by=['Ordering_Seq','Order']).\\\n",
    "reset_index(drop=True)"
   ]
  },
  {
   "cell_type": "code",
   "execution_count": 11,
   "metadata": {},
   "outputs": [],
   "source": [
    "free_time_servers = [0]*max_servers\n",
    "serving_seq[['Ordering_Time','Server_ID','Q_time','Order_Build_Time',\\\n",
    "             'Order_End_Time']] = \\\n",
    "pd.DataFrame([[0,0,0,0,0]],index =serving_seq.index)\n",
    "\n",
    "line_index = 0\n",
    "while line_index < len(serving_seq):\n",
    "    \n",
    "    initial_time = customer_exp.loc[serving_seq.loc[line_index,'Customer_ID'],\\\n",
    "                               'Ordering_Time']\n",
    "    \n",
    "    if line_index == 0:\n",
    "\n",
    "        q_time = 0\n",
    "        server_id = 0\n",
    "        \n",
    "    else:\n",
    "        boolean = 1\n",
    "        i = 0\n",
    "        while (boolean):\n",
    "            if i < max_servers:\n",
    "                \n",
    "                if (initial_time < free_time_servers[i]):\n",
    "                    i += 1\n",
    "                    boolean = 1\n",
    "                    \n",
    "                else:\n",
    "                    q_time = 0\n",
    "                    server_id = i\n",
    "                    boolean = 0\n",
    "                    \n",
    "            else:\n",
    "                server_id = np.argmin(free_time_servers)\n",
    "                q_time = np.min(free_time_servers) - initial_time\n",
    "                boolean = 0\n",
    "    \n",
    "    serving_seq.loc[line_index,'Ordering_Time'] = initial_time\n",
    "    serving_seq.loc[line_index,'Server_ID'] = server_id\n",
    "    serving_seq.loc[line_index,'Order_Build_Time'] = \\\n",
    "    generate_service(serving_seq.loc[line_index,'Order'])\n",
    "    serving_seq.loc[line_index,'Revenue'] = \\\n",
    "    generate_cost(serving_seq.loc[line_index,'Order'])\n",
    "    serving_seq.loc[line_index,'Q_time'] = q_time\n",
    "    serving_seq.loc[line_index,'Order_End_Time'] =\\\n",
    "    initial_time + q_time + serving_seq.loc[line_index,'Order_Build_Time']\n",
    "    free_time_servers[server_id] = serving_seq.loc[line_index,'Order_End_Time']\n",
    "    \n",
    "    line_index += 1"
   ]
  },
  {
   "cell_type": "code",
   "execution_count": 12,
   "metadata": {},
   "outputs": [],
   "source": [
    "serving_seq['Q_Time_Before_Customer_Order'] = \\\n",
    "serving_seq.groupby(['Customer_ID'])['Q_time'].transform(min)\n",
    "\n",
    "serving_seq['Customer_Order_Begin_Time'] = \\\n",
    "serving_seq.groupby(['Customer_ID'])['Order_End_Time'].transform(min)\n",
    "\n",
    "serving_seq['Revenue_From_Customer'] = \\\n",
    "serving_seq.groupby(['Customer_ID'])['Revenue'].transform(sum)\n",
    "\n",
    "serving_seq['Customer_Order_End_Time'] = \\\n",
    "serving_seq.groupby(['Customer_ID'])['Order_End_Time'].transform(max)"
   ]
  },
  {
   "cell_type": "code",
   "execution_count": 13,
   "metadata": {},
   "outputs": [],
   "source": [
    "additional_data_customer_exp = \\\n",
    "serving_seq[['Customer_ID','Q_Time_Before_Customer_Order',\\\n",
    "             'Revenue_From_Customer','Customer_Order_Begin_Time',\\\n",
    "             'Customer_Order_End_Time']].copy()\\\n",
    ".drop_duplicates(subset=['Customer_ID','Q_Time_Before_Customer_Order',\\\n",
    "             'Customer_Order_Begin_Time','Revenue_From_Customer',\\\n",
    "                         'Customer_Order_End_Time'],keep='first')\\\n",
    ".sort_values(by=['Customer_ID']).reset_index(drop=True)"
   ]
  },
  {
   "cell_type": "code",
   "execution_count": 17,
   "metadata": {},
   "outputs": [
    {
     "data": {
      "text/plain": [
       "Order\n",
       "1.0    168.0\n",
       "2.0    216.0\n",
       "3.0    160.0\n",
       "4.0    224.0\n",
       "Name: Revenue, dtype: float64"
      ]
     },
     "execution_count": 17,
     "metadata": {},
     "output_type": "execute_result"
    }
   ],
   "source": [
    "customer_exp = pd.concat([customer_exp,additional_data_customer_exp], axis=1)\n",
    "# customer_exp['Total_Time_In_Shop'] = \\\n",
    "# customer_exp['Customer_Order_End_Time']-customer_exp['Time_Of_Arrival']"
   ]
  },
  {
   "cell_type": "code",
   "execution_count": 18,
   "metadata": {},
   "outputs": [
    {
     "data": {
      "text/plain": [
       "Cashier_ID\n",
       "0    304.048295\n",
       "1     64.400702\n",
       "Name: Ordering_Time, dtype: float64"
      ]
     },
     "execution_count": 18,
     "metadata": {},
     "output_type": "execute_result"
    }
   ],
   "source": [
    "# Amount of time Each Cashier was Occupied\n",
    "customer_exp.groupby(['Cashier_ID'])['Ordering_Time'].sum()"
   ]
  },
  {
   "cell_type": "code",
   "execution_count": 19,
   "metadata": {},
   "outputs": [
    {
     "data": {
      "text/plain": [
       "Server_ID\n",
       "0    2.654793\n",
       "1    2.328163\n",
       "2    1.876626\n",
       "Name: Order_Build_Time, dtype: float64"
      ]
     },
     "execution_count": 19,
     "metadata": {},
     "output_type": "execute_result"
    }
   ],
   "source": [
    "# Amount of time Each Server was Occupied\n",
    "serving_seq.groupby(['Server_ID'])['Order_Build_Time'].sum()"
   ]
  },
  {
   "cell_type": "code",
   "execution_count": 20,
   "metadata": {},
   "outputs": [
    {
     "data": {
      "text/plain": [
       "Order\n",
       "1.0    168.0\n",
       "2.0    216.0\n",
       "3.0    160.0\n",
       "4.0    224.0\n",
       "Name: Revenue, dtype: float64"
      ]
     },
     "execution_count": 20,
     "metadata": {},
     "output_type": "execute_result"
    }
   ],
   "source": [
    "# Revenue as per each item\n",
    "serving_seq.groupby(['Order'])['Revenue'].sum()"
   ]
  }
 ],
 "metadata": {
  "kernelspec": {
   "display_name": "Python 3",
   "language": "python",
   "name": "python3"
  },
  "language_info": {
   "codemirror_mode": {
    "name": "ipython",
    "version": 3
   },
   "file_extension": ".py",
   "mimetype": "text/x-python",
   "name": "python",
   "nbconvert_exporter": "python",
   "pygments_lexer": "ipython3",
   "version": "3.7.1"
  }
 },
 "nbformat": 4,
 "nbformat_minor": 2
}
